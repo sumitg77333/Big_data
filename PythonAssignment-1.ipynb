{
  "metadata": {
    "language_info": {
      "codemirror_mode": {
        "name": "python",
        "version": 3
      },
      "file_extension": ".py",
      "mimetype": "text/x-python",
      "name": "python",
      "nbconvert_exporter": "python",
      "pygments_lexer": "ipython3",
      "version": "3.8"
    },
    "kernelspec": {
      "name": "python",
      "display_name": "Python (Pyodide)",
      "language": "python"
    }
  },
  "nbformat_minor": 4,
  "nbformat": 4,
  "cells": [
    {
      "cell_type": "markdown",
      "source": "Q1. Why do we call Python as a general purpose and high-level programming language?\n\nPython is called general-purpose programming language as it is designed to be used for building software in a wide variety of application domains, across a multitude of hardware configurations and operating systems.\n\nPython is called high-level language as it enables development of a program in a much more user-friendly programming context and is generally independent of the computer's hardware architecture.",
      "metadata": {}
    },
    {
      "cell_type": "markdown",
      "source": "Q2. Why is Python called a dynamically typed language?\n\nPython don't have any problem even if we don't declare the type of variable. It states the kind of variable in the runtime of the program. Python also take cares of the memory management which is crucial in programming. So, Python is a dynamically typed language.",
      "metadata": {}
    },
    {
      "cell_type": "markdown",
      "source": "Q3. List some pros and cons of Python programming language?\n\nPros of Python\n1. Beginner-Friendly \n2. Large Community\n3. Flexible and Extensible\n4. Extensive Libraries \n5. Embeddable\n6. Highly Scalable\n7. IOT Opportunities\n8. Machine Learning\n9. Portable\n\nCons of Python\n1. Issues with Design\n2. Slower than Compiled Languages\n3. Python is not so strong with mobile computing",
      "metadata": {}
    },
    {
      "cell_type": "markdown",
      "source": "Q4. In what all domains can we use Python?\n\nMachine learning / Artificial intelligence,\nDesktop GUI,\nData analytics and data visualization,\nWeb development,\nGame development,\nMobile app development,\nEmbedded systems",
      "metadata": {}
    },
    {
      "cell_type": "markdown",
      "source": "Q5. What are variable and how can we declare them?\n\nVariables are the basic unit of storage in a programming language. These variables consist of a data type, the variable name, and the value to be assigned to the variable.\nPython has no command for declaring a variable. A variable is created when some value is assigned to it.",
      "metadata": {}
    },
    {
      "cell_type": "markdown",
      "source": "Q6. How can we take an input from the user in Python?\n\nPython input() function is used to take user input. ",
      "metadata": {}
    },
    {
      "cell_type": "markdown",
      "source": "Q7. What is the default datatype of the value that has been taken as an input using input() function?\n\nBy default, it returns the user input in form of a string.",
      "metadata": {}
    },
    {
      "cell_type": "markdown",
      "source": "Q8. What is type casting?\n\nConverting one datatype into another is known as type casting",
      "metadata": {}
    },
    {
      "cell_type": "markdown",
      "source": "Q9. Can we take more than one input from the user using single input() function? If yes, how? If no, why?\n\nYes we can take multiple input using single input() function\nmethod 1 : x,y,z=input().split('')  \nmethod 2 : x , y , z= [int(x) for x in input().split()] \n",
      "metadata": {}
    },
    {
      "cell_type": "markdown",
      "source": "Q10. What are keywords?\n\nKeywords are some predefined and reserved words that have special meanings.",
      "metadata": {}
    },
    {
      "cell_type": "markdown",
      "source": "Q11. Can we use keywords as a variable? Support your answer with reason.\n\nYou cannot use keywords as variable names. It's because keywords have predefined meanings.",
      "metadata": {}
    },
    {
      "cell_type": "markdown",
      "source": "Q12. What is indentation? What's the use of indentaion in Python?\n\nIndentation refers to the spaces at the beginning of a code line. Python uses indentation to indicate a block of code.",
      "metadata": {}
    },
    {
      "cell_type": "markdown",
      "source": "Q13. How can we throw some output in Python?\n\nThe basic way to do output is the print statement.",
      "metadata": {}
    },
    {
      "cell_type": "markdown",
      "source": "Q14. What are operators in Python?\n\nIn Python, operators are special symbols that designate that some sort of computation should be performed. ",
      "metadata": {}
    },
    {
      "cell_type": "markdown",
      "source": "Q15. What is difference between / and // operators?\n\n'/' is the division operator.\n'//' is the floor division operator.",
      "metadata": {}
    },
    {
      "cell_type": "markdown",
      "source": "Q16. Write a code that gives following as an output.\n```\niNeuroniNeuroniNeuroniNeuron\n```",
      "metadata": {}
    },
    {
      "cell_type": "code",
      "source": "print(\"iNeuron\"*4)",
      "metadata": {
        "trusted": true
      },
      "execution_count": 13,
      "outputs": [
        {
          "name": "stdout",
          "text": "iNeuroniNeuroniNeuroniNeuron\n",
          "output_type": "stream"
        }
      ]
    },
    {
      "cell_type": "markdown",
      "source": "Q17. Write a code to take a number as an input from the user and check if the number is odd or even.",
      "metadata": {}
    },
    {
      "cell_type": "markdown",
      "source": "num = int(input(\"Enter a Number:\")) \n\nif num % 2 == 0: \n\n      print(\"Given number is Even\") \n  \nelse: \n\n      print(\"Given number is Odd\")",
      "metadata": {}
    },
    {
      "cell_type": "markdown",
      "source": "Q18. What are boolean operator?\n\nBoolean Operators are simple words (AND, OR, NOT or AND NOT) used as conjunctions to combine or exclude keywords in a search, resulting in more focused and productive results.",
      "metadata": {}
    },
    {
      "cell_type": "markdown",
      "source": "Q19. What will the output of the following?\n\n```\n1 or 0\n\n0 and 0\n\nTrue and False and True\n\n1 or 0 or 0\n```",
      "metadata": {}
    },
    {
      "cell_type": "code",
      "source": "print(1 or 0)\n\nprint(0 and 0)\n\nprint(True and False and True)\n\nprint(1 or 0 or 0)",
      "metadata": {
        "trusted": true
      },
      "execution_count": 14,
      "outputs": [
        {
          "name": "stdout",
          "text": "1\n0\nFalse\n1\n",
          "output_type": "stream"
        }
      ]
    },
    {
      "cell_type": "markdown",
      "source": "Q20. What are conditional statements in Python?\n\nA conditional statement as the name suggests itself, is used to handle conditions in your program. These statements guide the program while making decisions based on the conditions encountered by the program.\n\nPython has 3 key Conditional Statements that you should know:\n\nif statement, if-else statement, if-elif-else ladder",
      "metadata": {}
    },
    {
      "cell_type": "markdown",
      "source": "Q21. What is use of 'if', 'elif' and 'else' keywords?\n\nif Statement:\nThe if statement is a conditional statement in python, that is used to determine whether a block of code will be executed or not.\n\nif-else Statement:\nthe else statement works in conjuncture with the if statement to execute a code block when the defined if condition is false.\n\nif-elif-else ladder:\nThe elif statement is used to check for multiple conditions and execute the code block within if any of the conditions evaluate to be true.",
      "metadata": {}
    },
    {
      "cell_type": "markdown",
      "source": "Q22. Write a code to take the age of person as an input and if age >= 18 display \"I can vote\". If age is < 18 display \"I can't vote\".",
      "metadata": {}
    },
    {
      "cell_type": "markdown",
      "source": "num = int(input(\"Enter an age:\"))\n\nif num>=18:\n\n    print(\"I can vote\") \nelse:\n\n    print(\"I can't vote\")",
      "metadata": {}
    },
    {
      "cell_type": "markdown",
      "source": "\nQ23. Write a code that displays the sum of all the even numbers from the given list.\n",
      "metadata": {}
    },
    {
      "cell_type": "markdown",
      "source": "numbers = [12, 75, 150, 180, 145, 525, 50]\n\nx=0\n\nfor i in numbers:\n\n    if i%2==0:\n        x=x+i\n        \nprint(x)\n\n#print(sum([x for x in numbers if x%2==0]))",
      "metadata": {}
    },
    {
      "cell_type": "markdown",
      "source": "Q24. Write a code to take 3 numbers as an input from the user and display the greatest no as output.",
      "metadata": {}
    },
    {
      "cell_type": "markdown",
      "source": "a = int(input(\"Enter First number\"))\n\nb = int(input(\"Enter Second number\"))\n\nc = int(input(\"Enter Third number\"))\n\nif (a >= b) and (a >= c):\n\n    largest = a\n  \n    elif (b >= a) and (b >= c):\n        largest = b\n    else:\n        largest = c\n          \n    return largest",
      "metadata": {}
    },
    {
      "cell_type": "markdown",
      "source": "Q25. Write a program to display only those numbers from a list that satisfy the following conditions\n\n- The number must be divisible by five\n\n- If the number is greater than 150, then skip it and move to the next number\n\n- If the number is greater than 500, then stop the loop",
      "metadata": {}
    },
    {
      "cell_type": "code",
      "source": "numbers = [12, 75, 150, 180, 145, 525, 50]\n\nfor i in numbers:\n    if i%5==0 and i<151:\n        print(i)\n    if i>500:\n        break",
      "metadata": {
        "trusted": true
      },
      "execution_count": 15,
      "outputs": [
        {
          "name": "stdout",
          "text": "75\n150\n145\n",
          "output_type": "stream"
        }
      ]
    },
    {
      "cell_type": "markdown",
      "source": "Q26. What is a string? How can we declare string in Python?\n\nStrings in Python are arrays of bytes representing unicode characters. Strings can be created by enclosing characters inside a single quote or double-quotes.",
      "metadata": {}
    },
    {
      "cell_type": "markdown",
      "source": "Q27. How can we access the string using its index?\n\nIndividual characters in a string can be accessed by specifying the string name followed by a number in square brackets ( [] )",
      "metadata": {}
    },
    {
      "cell_type": "markdown",
      "source": "Q28. Write a code to get the desired output of the following\n",
      "metadata": {}
    },
    {
      "cell_type": "code",
      "source": "string = \"Big Data iNeuron\" \ndesired_output = \"iNeuron\"\nprint(string[9:])",
      "metadata": {
        "trusted": true
      },
      "execution_count": 16,
      "outputs": [
        {
          "name": "stdout",
          "text": "iNeuron\n",
          "output_type": "stream"
        }
      ]
    },
    {
      "cell_type": "markdown",
      "source": "Q29. Write a code to get the desired output of the following",
      "metadata": {}
    },
    {
      "cell_type": "code",
      "source": "string = \"Big Data iNeuron\"\ndesired_output = \"norueNi\"\nprint(string[-1:-8:-1])",
      "metadata": {
        "trusted": true
      },
      "execution_count": 17,
      "outputs": [
        {
          "name": "stdout",
          "text": "norueNi\n",
          "output_type": "stream"
        }
      ]
    },
    {
      "cell_type": "markdown",
      "source": "Q30. Resverse the string given in the above question.",
      "metadata": {}
    },
    {
      "cell_type": "code",
      "source": "print(string[::-1])",
      "metadata": {
        "trusted": true
      },
      "execution_count": 18,
      "outputs": [
        {
          "name": "stdout",
          "text": "norueNi ataD giB\n",
          "output_type": "stream"
        }
      ]
    },
    {
      "cell_type": "markdown",
      "source": "Q31. How can you delete entire string at once?\n\ndel string",
      "metadata": {}
    },
    {
      "cell_type": "markdown",
      "source": "Q32. What is escape sequence?\n\nCharacter combinations consisting of a backslash (\\) followed by a letter or by a combination of digits are called escape sequences.",
      "metadata": {}
    },
    {
      "cell_type": "markdown",
      "source": "Q33. How can you print the below string?\n\n'iNeuron's Big Data Course'",
      "metadata": {}
    },
    {
      "cell_type": "code",
      "source": "print('iNeuron\\'s Big Data Course')",
      "metadata": {
        "trusted": true
      },
      "execution_count": 19,
      "outputs": [
        {
          "name": "stdout",
          "text": "iNeuron's Big Data Course\n",
          "output_type": "stream"
        }
      ]
    },
    {
      "cell_type": "markdown",
      "source": "Q34. What is a list in Python?\n\nLists are used to store multiple items in a single variable.",
      "metadata": {}
    },
    {
      "cell_type": "markdown",
      "source": "Q35. How can you create a list in Python?",
      "metadata": {}
    },
    {
      "cell_type": "code",
      "source": "list=[1,2,'a','b',1+4j]",
      "metadata": {
        "trusted": true
      },
      "execution_count": 20,
      "outputs": []
    },
    {
      "cell_type": "markdown",
      "source": "Q36. How can we access the elements in a list?",
      "metadata": {}
    },
    {
      "cell_type": "code",
      "source": "print(list[0])    #accessing first element of list\nprint(list[1])    #accessing second element of list\nprint(list[-1])    #accessing last element of list",
      "metadata": {
        "trusted": true
      },
      "execution_count": 21,
      "outputs": [
        {
          "name": "stdout",
          "text": "1\n2\n(1+4j)\n",
          "output_type": "stream"
        }
      ]
    },
    {
      "cell_type": "markdown",
      "source": "Q37. Write a code to access the word \"iNeuron\" from the given list.",
      "metadata": {}
    },
    {
      "cell_type": "code",
      "source": "lst = [1,2,3,\"Hi\",[45,54, \"iNeuron\"], \"Big Data\"]\nlst[4][2]",
      "metadata": {
        "trusted": true
      },
      "execution_count": 22,
      "outputs": [
        {
          "execution_count": 22,
          "output_type": "execute_result",
          "data": {
            "text/plain": "'iNeuron'"
          },
          "metadata": {}
        }
      ]
    },
    {
      "cell_type": "markdown",
      "source": "Q38. Take a list as an input from the user and find the length of the list.\n\ninput_string = input(\"Enter elements of list seperated by space \")\n\nlist  = input_string.split(\" \")\n\nprint(len(list))",
      "metadata": {}
    },
    {
      "cell_type": "markdown",
      "source": "Q39. Add the word \"Big\" in the 3rd index of the given list.",
      "metadata": {}
    },
    {
      "cell_type": "code",
      "source": "lst = [\"Welcome\", \"to\", \"Data\", \"course\"]\nlst.insert(3, 'Big')\nlst",
      "metadata": {
        "trusted": true
      },
      "execution_count": 23,
      "outputs": [
        {
          "execution_count": 23,
          "output_type": "execute_result",
          "data": {
            "text/plain": "['Welcome', 'to', 'Data', 'Big', 'course']"
          },
          "metadata": {}
        }
      ]
    },
    {
      "cell_type": "markdown",
      "source": "Q40. What is a tuple? How is it different from list?\n\nTuples are also a sequence data type containing elements of different data types. But unlike list Tuples are immutable",
      "metadata": {}
    },
    {
      "cell_type": "markdown",
      "source": "Q41. How can you create a tuple in Python?\n\nTuples are surrounded by round brackets ( )\n\ntuple_numbers  = (1,2,3,4,5)",
      "metadata": {}
    },
    {
      "cell_type": "markdown",
      "source": "Q42. Create a tuple and try to add your name in the tuple. Are you able to do it? Support your answer with reason.\n\ntuple = (1,2,3,4,5)\n\nwe can not add new element in Tuple as it is immutable in nature",
      "metadata": {}
    },
    {
      "cell_type": "markdown",
      "source": "Q43. Can two tuple be appended. If yes, write a code for it. If not, why?",
      "metadata": {}
    },
    {
      "cell_type": "code",
      "source": "(1,2,3,4,5)+(1,2,3,4,5)",
      "metadata": {
        "trusted": true
      },
      "execution_count": 24,
      "outputs": [
        {
          "execution_count": 24,
          "output_type": "execute_result",
          "data": {
            "text/plain": "(1, 2, 3, 4, 5, 1, 2, 3, 4, 5)"
          },
          "metadata": {}
        }
      ]
    },
    {
      "cell_type": "markdown",
      "source": "Q44. Take a tuple as an input and print the count of elements in it.\n\nvalues = input('Please enter values seperated by space')\n\ninput_tuple = tuple(int(val) for val in values.split())\n\nprint(len)",
      "metadata": {}
    },
    {
      "cell_type": "markdown",
      "source": "Q45. What are sets in Python?\n\nA set is an unordered collection of items. Every set element is unique (no duplicates) and must be immutable (cannot be changed). \n",
      "metadata": {}
    },
    {
      "cell_type": "markdown",
      "source": "Q46. How can you create a set?\n\nA set is created by placing all the items (elements) inside curly braces {}, separated by comma, or by using the built-in set() function.",
      "metadata": {}
    },
    {
      "cell_type": "code",
      "source": "set = {1, 2, 3}\nset = {1.0, \"Hello\", (1, 2, 3)}",
      "metadata": {
        "trusted": true
      },
      "execution_count": 25,
      "outputs": []
    },
    {
      "cell_type": "markdown",
      "source": "Q47. Create a set and add \"iNeuron\" in your set",
      "metadata": {}
    },
    {
      "cell_type": "code",
      "source": "set = {1, 2, 3}\nset.add(\"iNeuron\")\nprint(set)",
      "metadata": {
        "trusted": true
      },
      "execution_count": 26,
      "outputs": [
        {
          "name": "stdout",
          "text": "{'iNeuron', 1, 2, 3}\n",
          "output_type": "stream"
        }
      ]
    },
    {
      "cell_type": "markdown",
      "source": "Q48. Try to add multiple values using add() function.",
      "metadata": {}
    },
    {
      "cell_type": "code",
      "source": "set = {1, 2, 3}\nset.update([2, 3, 4])\nprint(set)",
      "metadata": {
        "trusted": true
      },
      "execution_count": 27,
      "outputs": [
        {
          "name": "stdout",
          "text": "{1, 2, 3, 4}\n",
          "output_type": "stream"
        }
      ]
    },
    {
      "cell_type": "markdown",
      "source": "Q49. How is update() different from add()?\n\nAs add() function add a single element to the set, whereas update() function iterates over the given sequences and adds them to the set.",
      "metadata": {}
    },
    {
      "cell_type": "markdown",
      "source": "Q50. What is clear() in sets?\n\nThe clear() method removes all elements from the set.",
      "metadata": {}
    },
    {
      "cell_type": "markdown",
      "source": "Q51. What is frozen set?\n\nFrozen set is just an immutable version of a Python set object.",
      "metadata": {}
    },
    {
      "cell_type": "markdown",
      "source": "Q52. How is frozen set different from set?\n\nElements of a set can be modified at any time, elements of the frozen set remain the same after creation.",
      "metadata": {}
    },
    {
      "cell_type": "markdown",
      "source": "Q53. What is union() in sets? Explain via code.\n\nThe union() method returns a new set with elements from the set and all other sets. ",
      "metadata": {}
    },
    {
      "cell_type": "code",
      "source": "A = { 23, 453, 43, 66, 21} \nB = { 43, 785, 12, 35, 23, 545}\nA.union(B)",
      "metadata": {
        "trusted": true
      },
      "execution_count": 28,
      "outputs": [
        {
          "execution_count": 28,
          "output_type": "execute_result",
          "data": {
            "text/plain": "{12, 21, 23, 35, 43, 66, 453, 545, 785}"
          },
          "metadata": {}
        }
      ]
    },
    {
      "cell_type": "markdown",
      "source": "Q54. What is intersection() in sets? Explain via code.\n\nIntersection() method returns the intersection of set A with all the sets",
      "metadata": {}
    },
    {
      "cell_type": "code",
      "source": "A = {2, 3, 5, 4}\nB = {2, 5, 100}\nprint(B.intersection(A))",
      "metadata": {
        "trusted": true
      },
      "execution_count": 29,
      "outputs": [
        {
          "name": "stdout",
          "text": "{2, 5}\n",
          "output_type": "stream"
        }
      ]
    },
    {
      "cell_type": "markdown",
      "source": "Q55. What is dictionary ibn Python?\n\nA dictionary consists of a collection of key-value pairs. Each key-value pair maps the key to its associated value.",
      "metadata": {}
    },
    {
      "cell_type": "markdown",
      "source": "Q56. How is dictionary different from all other data structures.\n\nA dictionary consists of a collection of key-value pairs while list, tuple, sets consists of values",
      "metadata": {}
    },
    {
      "cell_type": "markdown",
      "source": "Q57. How can we delare a dictionary in Python?",
      "metadata": {}
    },
    {
      "cell_type": "code",
      "source": "my_information = dict({'name': 'John' ,'age': 28,'location': 'LA'})\n\nprint(my_information)",
      "metadata": {
        "trusted": true
      },
      "execution_count": 30,
      "outputs": [
        {
          "name": "stdout",
          "text": "{'name': 'John', 'age': 28, 'location': 'LA'}\n",
          "output_type": "stream"
        }
      ]
    },
    {
      "cell_type": "markdown",
      "source": "Q58. What will the output of the following?",
      "metadata": {}
    },
    {
      "cell_type": "code",
      "source": "var = {}\nprint(type(var))",
      "metadata": {
        "trusted": true
      },
      "execution_count": 31,
      "outputs": [
        {
          "name": "stdout",
          "text": "<class 'dict'>\n",
          "output_type": "stream"
        }
      ]
    },
    {
      "cell_type": "markdown",
      "source": "Q59. How can we add an element in a dictionary?",
      "metadata": {}
    },
    {
      "cell_type": "code",
      "source": "my_information = dict({'name': 'John' ,'age': 28,'location': 'LA'})\nmy_information['gender']='male'\nprint(my_information)",
      "metadata": {
        "trusted": true
      },
      "execution_count": 32,
      "outputs": [
        {
          "name": "stdout",
          "text": "{'name': 'John', 'age': 28, 'location': 'LA', 'gender': 'male'}\n",
          "output_type": "stream"
        }
      ]
    },
    {
      "cell_type": "markdown",
      "source": "Q60. Create a dictionary and access all the values in that dictionary.",
      "metadata": {}
    },
    {
      "cell_type": "code",
      "source": "my_information = dict({'name': 'John' ,'age': 28,'location': 'LA'})\nmy_information.values()",
      "metadata": {
        "trusted": true
      },
      "execution_count": 33,
      "outputs": [
        {
          "execution_count": 33,
          "output_type": "execute_result",
          "data": {
            "text/plain": "dict_values(['John', 28, 'LA'])"
          },
          "metadata": {}
        }
      ]
    },
    {
      "cell_type": "markdown",
      "source": "Q61. Create a nested dictionary and access all the element in the inner dictionary.",
      "metadata": {}
    },
    {
      "cell_type": "code",
      "source": "people = {1: {'name': 'John', 'age': '27', 'sex': 'Male'},\n          2: {'name': 'Marie', 'age': '22', 'sex': 'Female'}}\n\nprint(people[1]['name'])\nprint(people[1]['age'])\nprint(people[1]['sex'])",
      "metadata": {
        "trusted": true
      },
      "execution_count": 34,
      "outputs": [
        {
          "name": "stdout",
          "text": "John\n27\nMale\n",
          "output_type": "stream"
        }
      ]
    },
    {
      "cell_type": "markdown",
      "source": "Q62. What is the use of get() function?\nThe get() method returns the value of the item with the specified key.",
      "metadata": {}
    },
    {
      "cell_type": "code",
      "source": "car = {\"brand\": \"Ford\",\"model\": \"Mustang\",\"year\": 1964}\nx = car.get(\"model\")\nprint(x)",
      "metadata": {
        "trusted": true
      },
      "execution_count": 35,
      "outputs": [
        {
          "name": "stdout",
          "text": "Mustang\n",
          "output_type": "stream"
        }
      ]
    },
    {
      "cell_type": "markdown",
      "source": "Q63. What is the use of items() function?\n\nThe items() method returns a view object. The view object contains the key-value pairs of the dictionary, as tuples in a list.",
      "metadata": {}
    },
    {
      "cell_type": "code",
      "source": "car = {\n  \"brand\": \"Ford\",\n  \"model\": \"Mustang\",\n  \"year\": 1964\n}\n\nx = car.items()\n\nprint(x)",
      "metadata": {
        "trusted": true
      },
      "execution_count": 36,
      "outputs": [
        {
          "name": "stdout",
          "text": "dict_items([('brand', 'Ford'), ('model', 'Mustang'), ('year', 1964)])\n",
          "output_type": "stream"
        }
      ]
    },
    {
      "cell_type": "markdown",
      "source": "Q64. What is the use of pop() function?\n\nThe pop() method removes the item at the given index from the list and returns the removed item.",
      "metadata": {}
    },
    {
      "cell_type": "markdown",
      "source": "Q65. What is the use of popitems() function?\n\nPython dictionary popitem() method removes the last inserted key-value pair from the dictionary and returns it as a tuple",
      "metadata": {}
    },
    {
      "cell_type": "markdown",
      "source": "Q66. What is the use of keys() function?\n\nThe keys() method in Python Dictionary, returns a view object that displays a list of all the keys in the dictionary in order of insertion using Python.",
      "metadata": {}
    },
    {
      "cell_type": "markdown",
      "source": "Q67. What is the use of values() function?\n\nThe values() method returns a view object. The view object contains the values of the dictionary, as a list.",
      "metadata": {}
    },
    {
      "cell_type": "markdown",
      "source": "Q68. What are loops in Python?\n\nLoop is a statement that contains instructions that continually repeats until a certain condition is reached",
      "metadata": {}
    },
    {
      "cell_type": "markdown",
      "source": "Q69. How many type of loop are there in Python?\n\nThere are two types of loops in Python, for and while.\n",
      "metadata": {}
    },
    {
      "cell_type": "markdown",
      "source": "Q70. What is the difference between for and while loops?\n\nFor Loop: A for loop in Python is used to iterate over a sequence (list, tuple, set, dictionary, and string). \n\nWhile Loop: The while loop is used to execute a set of statements as long as a condition is true.",
      "metadata": {}
    },
    {
      "cell_type": "markdown",
      "source": "Q71. What is the use of continue statement?\n\nThe continue statement is used to skip the rest of the code inside a loop for the current iteration only.",
      "metadata": {}
    },
    {
      "cell_type": "markdown",
      "source": "Q72. What is the use of break statement?\n\nThe break statement terminates the loop containing it. ",
      "metadata": {}
    },
    {
      "cell_type": "markdown",
      "source": "Q73. What is the use of pass statement?\n\nIn Python programming, the pass statement is a null statement which can be used as a placeholder for future code.",
      "metadata": {}
    },
    {
      "cell_type": "markdown",
      "source": "Q74. What is the use of range() function?\n\nThe range() function returns a sequence of numbers, starting from 0 by default, and increments by 1 (by default), and stops before a specified number.",
      "metadata": {}
    },
    {
      "cell_type": "markdown",
      "source": "Q75. How can you loop over a dictionary?\n\nWe can loop through a dictionary by using a for loop. When looping through a dictionary, the return value are the keys of the dictionary.\n\nPrint all key names in the dictionary, one by one:\n\nfor x in thisdict:\n      \n      print(x)\n      \nPrint all values in the dictionary, one by one:\n\nfor x in thisdict:\n  \n  \n  print(thisdict[x])\n      ",
      "metadata": {}
    },
    {
      "cell_type": "markdown",
      "source": "Q76. Write a Python program to find the factorial of a given number.\n\nnum = int(input(\"Enter a number: \"))\n\nfactorial = 1\n\nif num < 0:\n   \n       print(\"Sorry, factorial does not exist for negative numbers\")\nelif num == 0:\n   \n       print(\"The factorial of 0 is 1\")\nelse:\n   \n       for i in range(1,num + 1):\n           \n           factorial = factorial*i\n       print(\"The factorial of\",num,\"is\",factorial)",
      "metadata": {}
    },
    {
      "cell_type": "markdown",
      "source": "Q77. Write a Python program to calculate the simple interest. Formula to calculate simple interest is SI = (PRT)/100\n\np = int(input(\"Enter p: \"))\n\nr = int(input(\"Enter r: \"))\n\nt = int(input(\"Enter t: \"))\n\nSI = (PRT)/100\n\nprint(SI)",
      "metadata": {}
    },
    {
      "cell_type": "markdown",
      "source": "Q78. Write a Python program to calculate the compound interest. Formula of compound interest is A = P(1+ R/100)^t.\n\np = int(input(\"Enter p: \"))\n\nr = int(input(\"Enter r: \"))\n\nt = int(input(\"Enter t: \"))\n\na=p*(1+(r/100))**t\n\nci=a-p \n\nprint(ci)",
      "metadata": {}
    },
    {
      "cell_type": "markdown",
      "source": "Q79. Write a Python program to check if a number is prime or not.\n\nnum = int(input(\"Enter a number: \"))\n\nflag = False\n\nif num > 1:\n   \n    for i in range(2, num):\n        \n        if (num % i) == 0:\n            \n            flag = True\n            \n            break\n\nif flag:\n\n    print(num, \"is not a prime number\")\nelse:\n\n    print(num, \"is a prime number\")\n",
      "metadata": {}
    },
    {
      "cell_type": "markdown",
      "source": "Q80. Write a Python program to check Armstrong Number.\n\nnumber = int(input(\"Enter a number: \"))\n\ntemp = number\n\nadd_sum = 0\n\nwhile temp != 0:\n\n    k = temp % 10\n    \n    add_sum += k*k*k\n    \n    temp = temp//10\n    \nif add_sum == number:\n    \n    print('Given number is a three-digit Armstrong Number')\nelse:\n    \n    print('Given number is not an Armstrong Number')",
      "metadata": {}
    },
    {
      "cell_type": "markdown",
      "source": "Q81. Write a Python program to find the n-th Fibonacci Number.\n\nn = int(input(\"Enter a number: \"))\n\na = 0\n\nb = 1\n    \nif n < 0: \n        \n        print(\"Incorrect input\") \n        \nelif n == 0: \n    \n        return a \n        \nelif n == 1: \n    \n        return b\n\nelse: \n\n        for i in range(2,n+1): \n            c = a + b \n            a = b \n            b = c \n        return b ",
      "metadata": {}
    },
    {
      "cell_type": "markdown",
      "source": "Q82. Write a Python program to interchange the first and last element in a list.\n\ninput_string = input(\"Enter elements of list seperated by space \")\n\nlist = input_string.split(\" \")\n\nsize = len(List)\n\ntemp = List[0]\n\nList[0] = List[size - 1]\n\nList[size - 1] = temp\n\nList",
      "metadata": {}
    },
    {
      "cell_type": "markdown",
      "source": "Q83. Write a Python program to swap two elements in a list.\n\ninput_string = input(\"Enter elements of list seperated by space \")\n\nlist = input_string.split(\" \")\n\npos1=int(input(\"enter position 1\"))\n\npos2=int(input(\"enter position 2\"))\n\ntemp=0\n\nlist[pos2]= temp\n\nlist[pos2] = list[pos1]\n\nlist[pos1]=temp",
      "metadata": {}
    },
    {
      "cell_type": "markdown",
      "source": "84. Write a Python program to find N largest element from a list.\n\ninput_string = input(\"Enter elements of list seperated by space \")\n\nlist = input_string.split(\" \")\n\nmax = list[0]\n\nfor x in list:\n\n        if x > max:\n            max = x  \nmax",
      "metadata": {}
    },
    {
      "cell_type": "markdown",
      "source": "Q85. Write a Python program to find cumulative sum of a list.\n\ninput_string = input(\"Enter elements of list seperated by space \")\nlist = input_string.split(\" \")\n\ncum_list=[]   \ny = 0  \nfor x in range(0,len(list)):  \n\n    y+=list[x]  \n    cum_list.append(y)   \n      \nprint(cum_list)",
      "metadata": {}
    },
    {
      "cell_type": "markdown",
      "source": "Q86. Write a Python program to check if a string is palindrome or not.\n\ninput_string = input(\"Enter string\")\n\nif input_string==input_string[::-1]:\n\n      print(\"palindrome\")\nelse:\n\n      print(\"not palindrome\")",
      "metadata": {}
    },
    {
      "cell_type": "markdown",
      "source": "Q87. Write a Python program to remove i'th element from a string.\n\ninput_string = input(\"Enter string \")\n\ni=int(input(\"enter the element index to remove\"))\n \nnew_str = input_string[:i] + input_string[i+1:]",
      "metadata": {}
    },
    {
      "cell_type": "markdown",
      "source": "Q88. Write a Python program to check if a substring is present in a given string.\n\ninput_string = input(\"Enter string \")\nword = input(\"Enter string to find \")\n\nif word in input_string:\n    \n        print(\"Yes! it is present in the string\")\nelse:\n\n        print(\"No! it is not present\")",
      "metadata": {}
    },
    {
      "cell_type": "markdown",
      "source": "Q89. Write a Python program to find words which are greater than given length k.\n\ninput_string = input(\"Enter elements of list seperated by space \")\ntext = input_string.split(\" \")\nk=int(input(\"enter the number\"))\ncount=0\nfor x in text:\n\n        if len(x) > k:\n            count=count+1\ncount",
      "metadata": {}
    },
    {
      "cell_type": "markdown",
      "source": "Q90. Write a Python program to extract unquire dictionary values.",
      "metadata": {}
    },
    {
      "cell_type": "code",
      "source": "test_dict = {\"Gfg\" : [6, 7, 4, 6], \"Geeks\" : [6, 8, 5, 2]}\nlist=[]\nfor a in test_dict.values():\n    list=list+a\nset(list)",
      "metadata": {
        "trusted": true
      },
      "execution_count": 37,
      "outputs": [
        {
          "ename": "<class 'TypeError'>",
          "evalue": "'set' object is not callable",
          "traceback": [
            "\u001b[0;31m---------------------------------------------------------------------------\u001b[0m",
            "\u001b[0;31mTypeError\u001b[0m                                 Traceback (most recent call last)",
            "Cell \u001b[0;32mIn [37], line 5\u001b[0m\n\u001b[1;32m      3\u001b[0m \u001b[38;5;28;01mfor\u001b[39;00m a \u001b[38;5;129;01min\u001b[39;00m test_dict\u001b[38;5;241m.\u001b[39mvalues():\n\u001b[1;32m      4\u001b[0m     \u001b[38;5;28mlist\u001b[39m\u001b[38;5;241m=\u001b[39m\u001b[38;5;28mlist\u001b[39m\u001b[38;5;241m+\u001b[39ma\n\u001b[0;32m----> 5\u001b[0m \u001b[38;5;28;43mset\u001b[39;49m\u001b[43m(\u001b[49m\u001b[38;5;28;43mlist\u001b[39;49m\u001b[43m)\u001b[49m\n",
            "\u001b[0;31mTypeError\u001b[0m: 'set' object is not callable"
          ],
          "output_type": "error"
        }
      ]
    },
    {
      "cell_type": "markdown",
      "source": "Q91. Write a Python program to merge two dictionary.",
      "metadata": {}
    },
    {
      "cell_type": "code",
      "source": "dict_1 = {'John': 15, 'Rick': 10, 'Misa' : 12 }\ndict_2 = {'Bonnie': 18,'Rick': 20,'Matt' : 16 }\nresult = dict_1 | dict_2\nresult",
      "metadata": {
        "trusted": true
      },
      "execution_count": 3,
      "outputs": [
        {
          "execution_count": 3,
          "output_type": "execute_result",
          "data": {
            "text/plain": "{'John': 15, 'Rick': 20, 'Misa': 12, 'Bonnie': 18, 'Matt': 16}"
          },
          "metadata": {}
        }
      ]
    },
    {
      "cell_type": "markdown",
      "source": "Q92. Write a Python program to convert a list of tuples into dictionary.\n\nInput : [('Sachin', 10), ('MSD', 7), ('Kohli', 18), ('Rohit', 45)]\nOutput : {'Sachin': 10, 'MSD': 7, 'Kohli': 18, 'Rohit': 45}",
      "metadata": {}
    },
    {
      "cell_type": "code",
      "source": "Input = [('Sachin', 10), ('MSD', 7), ('Kohli', 18), ('Rohit', 45)]\n\ndictionary = {}\ndi = dict(Input)\ndi",
      "metadata": {
        "trusted": true
      },
      "execution_count": 4,
      "outputs": [
        {
          "execution_count": 4,
          "output_type": "execute_result",
          "data": {
            "text/plain": "{'Sachin': 10, 'MSD': 7, 'Kohli': 18, 'Rohit': 45}"
          },
          "metadata": {}
        }
      ]
    },
    {
      "cell_type": "markdown",
      "source": "Q93. Write a Python program to create a list of tuples from given list having number and its cube in each tuple.\n\nInput: list = [9, 5, 6]\nOutput: [(9, 729), (5, 125), (6, 216)]",
      "metadata": {}
    },
    {
      "cell_type": "code",
      "source": "list = [9, 5, 6]\nres = [(val,val**3) for val in list]\nres",
      "metadata": {
        "trusted": true
      },
      "execution_count": 5,
      "outputs": [
        {
          "execution_count": 5,
          "output_type": "execute_result",
          "data": {
            "text/plain": "[(9, 729), (5, 125), (6, 216)]"
          },
          "metadata": {}
        }
      ]
    },
    {
      "cell_type": "markdown",
      "source": "Q94. Write a Python program to get all combinations of 2 tuples.\n\nInput : test_tuple1 = (7, 2), test_tuple2 = (7, 8)\nOutput : [(7, 7), (7, 8), (2, 7), (2, 8), (7, 7), (7, 2), (8, 7), (8, 2)]",
      "metadata": {}
    },
    {
      "cell_type": "code",
      "source": "tuple1 = (7, 2)\ntuple2 = (7, 8)\nresult =  [(x, y) for x in tuple1 for y in tuple2] + [(x, y) for x in tuple2 for y in tuple1]\nresult   ",
      "metadata": {
        "trusted": true
      },
      "execution_count": 6,
      "outputs": [
        {
          "execution_count": 6,
          "output_type": "execute_result",
          "data": {
            "text/plain": "[(7, 7), (7, 8), (2, 7), (2, 8), (7, 7), (7, 2), (8, 7), (8, 2)]"
          },
          "metadata": {}
        }
      ]
    },
    {
      "cell_type": "markdown",
      "source": "Q95. Write a Python program to sort a list of tuples by second item.\n\nInput : [('for', 24), ('Geeks', 8), ('Geeks', 30)] \nOutput : [('Geeks', 8), ('for', 24), ('Geeks', 30)]",
      "metadata": {}
    },
    {
      "cell_type": "code",
      "source": "l=[('for', 24), ('Geeks', 8), ('Geeks', 30)] \nl.sort(key = lambda x: x[1])\nl",
      "metadata": {
        "trusted": true
      },
      "execution_count": 7,
      "outputs": [
        {
          "execution_count": 7,
          "output_type": "execute_result",
          "data": {
            "text/plain": "[('Geeks', 8), ('for', 24), ('Geeks', 30)]"
          },
          "metadata": {}
        }
      ]
    },
    {
      "cell_type": "markdown",
      "source": "Q96. Write a python program to print below pattern.",
      "metadata": {}
    },
    {
      "cell_type": "code",
      "source": " for i in range(0, 5):\n        for j in range(0, i+1):\n            print(\"* \",end=\"\")\n        print(\"\")",
      "metadata": {
        "trusted": true
      },
      "execution_count": 8,
      "outputs": [
        {
          "name": "stdout",
          "text": "* \n* * \n* * * \n* * * * \n* * * * * \n",
          "output_type": "stream"
        }
      ]
    },
    {
      "cell_type": "markdown",
      "source": "Q97. Write a python program to print below pattern.",
      "metadata": {}
    },
    {
      "cell_type": "code",
      "source": "height = 5\nfor row in range(1, height+ 1):\n    print(\" \" * (height - row) +\"*\" * row)",
      "metadata": {
        "trusted": true
      },
      "execution_count": 9,
      "outputs": [
        {
          "name": "stdout",
          "text": "    *\n   **\n  ***\n ****\n*****\n",
          "output_type": "stream"
        }
      ]
    },
    {
      "cell_type": "markdown",
      "source": "Q98. Write a python program to print below pattern. ",
      "metadata": {}
    },
    {
      "cell_type": "code",
      "source": "height = 5\nfor row in range(1, height+ 1):\n    print(\" \" * (height - row) +\"* \" * row)",
      "metadata": {
        "trusted": true
      },
      "execution_count": 10,
      "outputs": [
        {
          "name": "stdout",
          "text": "    * \n   * * \n  * * * \n * * * * \n* * * * * \n",
          "output_type": "stream"
        }
      ]
    },
    {
      "cell_type": "markdown",
      "source": "Q99. Write a python program to print below pattern.",
      "metadata": {}
    },
    {
      "cell_type": "code",
      "source": "height = 5\nfor i in range(1, height+ 1):\n    for j in range(1,i+1):\n        print(j,end=\" \")\n    print(\"\")",
      "metadata": {
        "trusted": true
      },
      "execution_count": 11,
      "outputs": [
        {
          "name": "stdout",
          "text": "1 \n1 2 \n1 2 3 \n1 2 3 4 \n1 2 3 4 5 \n",
          "output_type": "stream"
        }
      ]
    },
    {
      "cell_type": "markdown",
      "source": "Q100. Write a python program to print below pattern.",
      "metadata": {}
    },
    {
      "cell_type": "code",
      "source": "for i in range (65,70):\n    for j in range(65,i+1):\n        print(chr(j),end=\"\")\n    print()",
      "metadata": {
        "trusted": true
      },
      "execution_count": 12,
      "outputs": [
        {
          "name": "stdout",
          "text": "A\nAB\nABC\nABCD\nABCDE\n",
          "output_type": "stream"
        }
      ]
    },
    {
      "cell_type": "code",
      "source": "",
      "metadata": {},
      "execution_count": null,
      "outputs": []
    },
    {
      "cell_type": "code",
      "source": "",
      "metadata": {},
      "execution_count": null,
      "outputs": []
    },
    {
      "cell_type": "code",
      "source": "",
      "metadata": {},
      "execution_count": null,
      "outputs": []
    }
  ]
}